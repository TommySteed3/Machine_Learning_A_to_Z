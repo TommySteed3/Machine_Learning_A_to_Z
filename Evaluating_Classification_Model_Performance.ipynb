{
 "cells": [
  {
   "cell_type": "markdown",
   "metadata": {},
   "source": [
    "**False Positives and Negatives**  \n",
    "* False Positive = Type I Error  \n",
    "* False Negative = Type II Error  \n",
    "* False = Incorrect Prediction  \n",
    "* Positive = Predicted Value = 1 ; Have Disease ; Reject Null Hypothesis...  "
   ]
  },
  {
   "cell_type": "markdown",
   "metadata": {},
   "source": [
    "**Confusion Matrix**  \n",
    "* Columns = Predicted = 0,1  \n",
    "* Rows = Actual = 0,1 \n",
    "![](confusion_matrix.PNG)"
   ]
  },
  {
   "cell_type": "markdown",
   "metadata": {},
   "source": [
    "**VARIOUS RATES**  \n",
    "* Accuracy: Correct/Total = 85%  \n",
    "* Error Rate: Wrong/Total = 15%  "
   ]
  },
  {
   "cell_type": "markdown",
   "metadata": {},
   "source": [
    "**Accuracy Paradox**  \n",
    "* Can just pick most common outcome to ensure a high accuracy rate.  \n",
    "* Need a different metric to judge model performance.  "
   ]
  },
  {
   "cell_type": "markdown",
   "metadata": {},
   "source": [
    "**CAP Curve**  \n",
    "* CAP = Cumulative Accuracy Profile  \n",
    "* Randomly selected populations will have population response rate.  \n",
    "* Certain pockets will differ in behavior (some more - some less).  \n",
    "* Select populations based on your model.  Customer segmentation model.  \n",
    "* Gets you lift over the random line - which is linear.  \n",
    "![](CAP.PNG)"
   ]
  },
  {
   "cell_type": "markdown",
   "metadata": {},
   "source": [
    "**NOTE**  \n",
    "* CAP = Cumulative Accuracy Profile  \n",
    "* ROC = Receiver Operating Characteristic  \n",
    "* THESE ARE NOT THE SAME!!!  THEY LOOK SIMILAR - BUT ARE DIFFERENT!!!!"
   ]
  },
  {
   "cell_type": "markdown",
   "metadata": {},
   "source": [
    "**CAP CURVE ANALYSIS**  \n",
    "* Focusing on 3 lines: Random ; Perfect Model ; Your Model  \n",
    "* Your model will fit somewhere between Random and Perfect - closer to Perfect the better the model and vv.  \n",
    "* How to quantify?  \n",
    "* ap = Area under perfect model (and above random) ; ar = Area under your model (and above random)  \n",
    "* AR = ar/ap ; values will be between 0 and 1 ; closer to 1 = better model \n",
    "* The above approach can be computationally challenging.  There is an alternative approach.  \n",
    "* Look at the 50% value on the horizontal axis - and see where it crosses your model on the vertical.  \n",
    "* Rule of thumb:  \n",
    "* X < 60% = Junk  \n",
    "* X < 70% = Poor/Average  \n",
    "* X < 80% = Good  \n",
    "* X < 90% = Very Good  \n",
    "* X > 90% = TOO GOOD  (Overfitting sign - or leakage)  "
   ]
  },
  {
   "cell_type": "markdown",
   "metadata": {},
   "source": [
    "**HOW DO I KNOW WHICH MODEL TO CHOOSE FOR MY PROBLEM?**  \n",
    "* First determine if the problem is linear or non-linear.  \n",
    "* If it is linear - Logistic Regression or SVM.  \n",
    "* If it is non-linear - KNN ; Naive Bayes or Decision Tree/Random Forest.  \n",
    "FROM A BUSINESS POINT OF VIEW YOU WOULD RATHER USE:  \n",
    "* Logistic Regression or Naive Bayes when you want to rank predictions by their probability (targeted marketing example).  \n",
    "* Logistic if linear and Naive Bayes if not.  \n",
    "* SVM is best for customer segmentation.  \n",
    "* Decision trees are best for interpretability.  \n",
    "* Random Forest is better for high performance and less emphasis on interpretability.  \n",
    "\n"
   ]
  }
 ],
 "metadata": {
  "kernelspec": {
   "display_name": "R",
   "language": "R",
   "name": "ir"
  },
  "language_info": {
   "codemirror_mode": "r",
   "file_extension": ".r",
   "mimetype": "text/x-r-source",
   "name": "R",
   "pygments_lexer": "r",
   "version": "3.6.1"
  }
 },
 "nbformat": 4,
 "nbformat_minor": 4
}
