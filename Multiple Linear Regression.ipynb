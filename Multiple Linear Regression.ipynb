{
 "cells": [
  {
   "cell_type": "markdown",
   "metadata": {},
   "source": [
    "# MULTIPLE LINEAR REGRESSION"
   ]
  },
  {
   "cell_type": "markdown",
   "metadata": {},
   "source": [
    "* **General Formula:** $y = b_0 + b_1 * x_1 + ... + b_n * x_n $  \n",
    "* Random Note on R:  Column Names with spaces - you can replace spaces with dots.  Instead of ``."
   ]
  },
  {
   "cell_type": "markdown",
   "metadata": {},
   "source": [
    "**Assumptions of Linear Regression**  \n",
    "* Linearity\n",
    "* Homoscedasticity\n",
    "* Multivariate Normality\n",
    "* Independence of Errors\n",
    "* Lack of Multicollinearity"
   ]
  },
  {
   "cell_type": "markdown",
   "metadata": {},
   "source": [
    "**Dummy Variables**  \n",
    "These are used for modeling categorical variables.  "
   ]
  },
  {
   "cell_type": "markdown",
   "metadata": {},
   "source": [
    "**Dummy Variable Trap**  \n",
    "* If you create dummy variables for your categorical variable with n levels - you want to create (n-1) dummy variables.\n",
    "* Otherwise - you will introduce multicollinearity.  \n",
    "* Multicollinearity: when you are able to calculate one independent variable from other independent variables.\n",
    "* D1 = 1- D2 : Example for 2 levels.\n",
    "* Only occurs when you include the constant variable ?"
   ]
  },
  {
   "cell_type": "markdown",
   "metadata": {},
   "source": [
    "**Statistical Significance**  \n",
    "* Null Hypothesis: $H_0: $This is a fair Coin. \n",
    "* Alternative Hypothesis: $H_1: $ This is not a fair coin.\n",
    "* P-Value: Probability of observation occuring - given the null hypothesis is true."
   ]
  },
  {
   "cell_type": "markdown",
   "metadata": {},
   "source": [
    "**5 Methods of Building a Model**  \n",
    "1. All-in  \n",
    "2. Backwards Elimination  \n",
    "3. Forward Selection  \n",
    "4. Bidirectional Elimination  \n",
    "5. Score Comparison  \n",
    "NOTE: Steps 2,3,4 often referred to as stepwise regression."
   ]
  },
  {
   "cell_type": "markdown",
   "metadata": {},
   "source": [
    "**All-in**  \n",
    "* Using all the independent variables.\n",
    "* Might use if you have prior knowledge - or are required to.  \n",
    "* Used in preparation of backward elimination."
   ]
  },
  {
   "cell_type": "markdown",
   "metadata": {},
   "source": [
    "**Backward Elimination**  \n",
    "1. Select Significance Level (EX: 5%)  \n",
    "2. Fit the full model (All-In)  \n",
    "3. Consider predictor with highest P-Value.  If P-Value > SL - go to Step 4 ; Othewise - Finished.  \n",
    "4. Remove the predictor  \n",
    "5. Fit model without this variable  \n",
    "6. Go To Step 3"
   ]
  },
  {
   "cell_type": "markdown",
   "metadata": {},
   "source": [
    "**Forward Selection**  \n",
    "1. Select Significance Level.  \n",
    "2. Fit all possible simple regression models.  Select model with lowest P-Value.  \n",
    "3. Keep this variable and fit all possible 2 variable models added to 1-variable model above.  \n",
    "4. Consider predictor with LOWEST P-Value.  If P < Significance Level GOTO Step 3.  Otherwise - FINISHED.  "
   ]
  },
  {
   "cell_type": "markdown",
   "metadata": {},
   "source": [
    "**Bidirectional Elimination**  \n",
    "1. Select Signifcance Level to Enter - and Significance Level to Stay.  \n",
    "2. Perform next step from FW Selection.  Need SL Enter to add.    \n",
    "3. Perform next step from BW Selection.  Need SL Stay to stay.  Back to step 2.  \n",
    "Repeat until no variables added or removed."
   ]
  },
  {
   "cell_type": "markdown",
   "metadata": {},
   "source": [
    "# Begin Multiple Linear Regression  \n",
    "**Data Preprocessing  \n",
    "Note: Factors set to 1,2,3 are labels only.  Nominal - not ordinal."
   ]
  },
  {
   "cell_type": "code",
   "execution_count": 5,
   "metadata": {},
   "outputs": [],
   "source": [
    "# Data Preprocessing Template\n",
    "\n",
    "# Importing the dataset\n",
    "data.startup = read.csv('50_Startups.csv')\n",
    "\n",
    "#Encode Categorical Data\n",
    "data.startup$State <- factor(data.startup$State,\n",
    "                             levels = c('New York', 'California', 'Florida'),\n",
    "                             labels = c(1,2,3))\n",
    "\n",
    "\n",
    "# Splitting the dataset into the Training set and Test set\n",
    "# install.packages('caTools')\n",
    "library(caTools)\n",
    "set.seed(123)\n",
    "split = sample.split(data.startup$Profit, SplitRatio = 0.8)\n",
    "data.train = subset(data.startup, split == TRUE)\n",
    "data.test = subset(data.startup, split == FALSE)\n",
    "\n",
    "# Feature Scaling\n",
    "# training_set = scale(training_set)\n",
    "# test_set = scale(test_set)"
   ]
  },
  {
   "cell_type": "markdown",
   "metadata": {},
   "source": [
    "**Fitting Multiple Linear Regression to Training Set**"
   ]
  },
  {
   "cell_type": "code",
   "execution_count": 9,
   "metadata": {},
   "outputs": [
    {
     "data": {
      "text/plain": [
       "\n",
       "Call:\n",
       "lm(formula = Profit ~ R.D.Spend + Administration + Marketing.Spend + \n",
       "    State, data = data.train)\n",
       "\n",
       "Residuals:\n",
       "   Min     1Q Median     3Q    Max \n",
       "-33128  -4865      5   6098  18065 \n",
       "\n",
       "Coefficients:\n",
       "                  Estimate Std. Error t value Pr(>|t|)    \n",
       "(Intercept)      4.965e+04  7.637e+03   6.501 1.94e-07 ***\n",
       "R.D.Spend        7.986e-01  5.604e-02  14.251 6.70e-16 ***\n",
       "Administration  -2.942e-02  5.828e-02  -0.505    0.617    \n",
       "Marketing.Spend  3.268e-02  2.127e-02   1.537    0.134    \n",
       "State2           1.213e+02  3.751e+03   0.032    0.974    \n",
       "State3           2.376e+02  4.127e+03   0.058    0.954    \n",
       "---\n",
       "Signif. codes:  0 '***' 0.001 '**' 0.01 '*' 0.05 '.' 0.1 ' ' 1\n",
       "\n",
       "Residual standard error: 9908 on 34 degrees of freedom\n",
       "Multiple R-squared:  0.9499,\tAdjusted R-squared:  0.9425 \n",
       "F-statistic:   129 on 5 and 34 DF,  p-value: < 2.2e-16\n"
      ]
     },
     "metadata": {},
     "output_type": "display_data"
    }
   ],
   "source": [
    "regressor <- lm(formula = Profit ~ R.D.Spend + Administration + Marketing.Spend + State,\n",
    "               data = data.train)\n",
    "\n",
    "summary(regressor)"
   ]
  },
  {
   "cell_type": "markdown",
   "metadata": {},
   "source": [
    "Results above suggest that only R&D Spend has a statistically significant impact on Profit."
   ]
  },
  {
   "cell_type": "code",
   "execution_count": 11,
   "metadata": {},
   "outputs": [
    {
     "data": {
      "text/plain": [
       "\n",
       "Call:\n",
       "lm(formula = Profit ~ R.D.Spend, data = data.train)\n",
       "\n",
       "Residuals:\n",
       "   Min     1Q Median     3Q    Max \n",
       "-34334  -4894   -340   6752  17147 \n",
       "\n",
       "Coefficients:\n",
       "             Estimate Std. Error t value Pr(>|t|)    \n",
       "(Intercept) 4.902e+04  2.748e+03   17.84   <2e-16 ***\n",
       "R.D.Spend   8.563e-01  3.357e-02   25.51   <2e-16 ***\n",
       "---\n",
       "Signif. codes:  0 '***' 0.001 '**' 0.01 '*' 0.05 '.' 0.1 ' ' 1\n",
       "\n",
       "Residual standard error: 9836 on 38 degrees of freedom\n",
       "Multiple R-squared:  0.9448,\tAdjusted R-squared:  0.9434 \n",
       "F-statistic: 650.8 on 1 and 38 DF,  p-value: < 2.2e-16\n"
      ]
     },
     "metadata": {},
     "output_type": "display_data"
    }
   ],
   "source": [
    "regressor.simple <- lm(formula = Profit ~ R.D.Spend,\n",
    "               data = data.train)\n",
    "\n",
    "summary(regressor.simple)"
   ]
  },
  {
   "cell_type": "markdown",
   "metadata": {},
   "source": [
    "**Predict Test Results**  \n",
    "* Added geom_abline.  Using intercept = 0 and slope = 1 creates a line for x = y.  \n",
    "* Any point above the line represents x < y which means prediction < actual."
   ]
  },
  {
   "cell_type": "code",
   "execution_count": 20,
   "metadata": {},
   "outputs": [
    {
     "data": {
      "image/png": "[encoded data removed]",
      "text/plain": [
       "plot without title"
      ]
     },
     "metadata": {},
     "output_type": "display_data"
    },
    {
     "data": {
      "image/png": "[encoded data removed]",
      "text/plain": [
       "plot without title"
      ]
     },
     "metadata": {},
     "output_type": "display_data"
    }
   ],
   "source": [
    "library(ggplot2)\n",
    "data.test$prediction <- predict(regressor,newdata = data.test)\n",
    "data.train$prediction <- predict(regressor, newdata = data.train)\n",
    "\n",
    "ggplot(data.test, aes(x = prediction, y = Profit)) + geom_point() + geom_abline(intercept = 0, slope = 1)\n",
    "ggplot(data.train, aes(x = prediction, y = Profit)) + geom_point() + geom_abline(intercept = 0, slope = 1)\n"
   ]
  },
  {
   "cell_type": "markdown",
   "metadata": {},
   "source": [
    "**Building a Model Using Backward Elimination**\n",
    "* First step is to look at complete model.  \n",
    "* Using complete dataset - just for an example - since this is such a small dataset."
   ]
  },
  {
   "cell_type": "code",
   "execution_count": 22,
   "metadata": {},
   "outputs": [
    {
     "data": {
      "text/plain": [
       "\n",
       "Call:\n",
       "lm(formula = Profit ~ R.D.Spend + Administration + Marketing.Spend + \n",
       "    State, data = data.startup)\n",
       "\n",
       "Residuals:\n",
       "   Min     1Q Median     3Q    Max \n",
       "-33504  -4736     90   6672  17338 \n",
       "\n",
       "Coefficients:\n",
       "                  Estimate Std. Error t value Pr(>|t|)    \n",
       "(Intercept)      5.008e+04  6.953e+03   7.204 5.76e-09 ***\n",
       "R.D.Spend        8.060e-01  4.641e-02  17.369  < 2e-16 ***\n",
       "Administration  -2.700e-02  5.223e-02  -0.517    0.608    \n",
       "Marketing.Spend  2.698e-02  1.714e-02   1.574    0.123    \n",
       "State2           4.189e+01  3.256e+03   0.013    0.990    \n",
       "State3           2.407e+02  3.339e+03   0.072    0.943    \n",
       "---\n",
       "Signif. codes:  0 '***' 0.001 '**' 0.01 '*' 0.05 '.' 0.1 ' ' 1\n",
       "\n",
       "Residual standard error: 9439 on 44 degrees of freedom\n",
       "Multiple R-squared:  0.9508,\tAdjusted R-squared:  0.9452 \n",
       "F-statistic: 169.9 on 5 and 44 DF,  p-value: < 2.2e-16\n"
      ]
     },
     "metadata": {},
     "output_type": "display_data"
    }
   ],
   "source": [
    "regressor <- lm(formula = Profit ~ R.D.Spend + Administration + Marketing.Spend + State,\n",
    "               data = data.startup)\n",
    "\n",
    "summary(regressor)"
   ]
  },
  {
   "cell_type": "markdown",
   "metadata": {},
   "source": [
    "Next - remove predictor with highest P-Value that is above our Significance Level (5%).  \n",
    "For us - states 2 and 3 are both very low - so we will remove the variable State."
   ]
  },
  {
   "cell_type": "code",
   "execution_count": 26,
   "metadata": {},
   "outputs": [
    {
     "data": {
      "text/plain": [
       "\n",
       "Call:\n",
       "lm(formula = Profit ~ R.D.Spend + Administration + Marketing.Spend, \n",
       "    data = data.startup)\n",
       "\n",
       "Residuals:\n",
       "   Min     1Q Median     3Q    Max \n",
       "-33534  -4795     63   6606  17275 \n",
       "\n",
       "Coefficients:\n",
       "                  Estimate Std. Error t value Pr(>|t|)    \n",
       "(Intercept)      5.012e+04  6.572e+03   7.626 1.06e-09 ***\n",
       "R.D.Spend        8.057e-01  4.515e-02  17.846  < 2e-16 ***\n",
       "Administration  -2.682e-02  5.103e-02  -0.526    0.602    \n",
       "Marketing.Spend  2.723e-02  1.645e-02   1.655    0.105    \n",
       "---\n",
       "Signif. codes:  0 '***' 0.001 '**' 0.01 '*' 0.05 '.' 0.1 ' ' 1\n",
       "\n",
       "Residual standard error: 9232 on 46 degrees of freedom\n",
       "Multiple R-squared:  0.9507,\tAdjusted R-squared:  0.9475 \n",
       "F-statistic:   296 on 3 and 46 DF,  p-value: < 2.2e-16\n"
      ]
     },
     "metadata": {},
     "output_type": "display_data"
    }
   ],
   "source": [
    "regressor <- lm(formula = Profit ~ R.D.Spend + Administration + Marketing.Spend,\n",
    "               data = data.startup)\n",
    "\n",
    "summary(regressor)"
   ]
  },
  {
   "cell_type": "markdown",
   "metadata": {},
   "source": [
    "Highest is Administration.  Remove:"
   ]
  },
  {
   "cell_type": "code",
   "execution_count": 27,
   "metadata": {},
   "outputs": [
    {
     "data": {
      "text/plain": [
       "\n",
       "Call:\n",
       "lm(formula = Profit ~ R.D.Spend + Marketing.Spend, data = data.startup)\n",
       "\n",
       "Residuals:\n",
       "   Min     1Q Median     3Q    Max \n",
       "-33645  -4632   -414   6484  17097 \n",
       "\n",
       "Coefficients:\n",
       "                 Estimate Std. Error t value Pr(>|t|)    \n",
       "(Intercept)     4.698e+04  2.690e+03  17.464   <2e-16 ***\n",
       "R.D.Spend       7.966e-01  4.135e-02  19.266   <2e-16 ***\n",
       "Marketing.Spend 2.991e-02  1.552e-02   1.927     0.06 .  \n",
       "---\n",
       "Signif. codes:  0 '***' 0.001 '**' 0.01 '*' 0.05 '.' 0.1 ' ' 1\n",
       "\n",
       "Residual standard error: 9161 on 47 degrees of freedom\n",
       "Multiple R-squared:  0.9505,\tAdjusted R-squared:  0.9483 \n",
       "F-statistic: 450.8 on 2 and 47 DF,  p-value: < 2.2e-16\n"
      ]
     },
     "metadata": {},
     "output_type": "display_data"
    }
   ],
   "source": [
    "regressor <- lm(formula = Profit ~ R.D.Spend + Marketing.Spend,\n",
    "               data = data.startup)\n",
    "\n",
    "summary(regressor)"
   ]
  },
  {
   "cell_type": "code",
   "execution_count": 28,
   "metadata": {},
   "outputs": [
    {
     "data": {
      "text/plain": [
       "\n",
       "Call:\n",
       "lm(formula = Profit ~ R.D.Spend, data = data.startup)\n",
       "\n",
       "Residuals:\n",
       "   Min     1Q Median     3Q    Max \n",
       "-34351  -4626   -375   6249  17188 \n",
       "\n",
       "Coefficients:\n",
       "             Estimate Std. Error t value Pr(>|t|)    \n",
       "(Intercept) 4.903e+04  2.538e+03   19.32   <2e-16 ***\n",
       "R.D.Spend   8.543e-01  2.931e-02   29.15   <2e-16 ***\n",
       "---\n",
       "Signif. codes:  0 '***' 0.001 '**' 0.01 '*' 0.05 '.' 0.1 ' ' 1\n",
       "\n",
       "Residual standard error: 9416 on 48 degrees of freedom\n",
       "Multiple R-squared:  0.9465,\tAdjusted R-squared:  0.9454 \n",
       "F-statistic: 849.8 on 1 and 48 DF,  p-value: < 2.2e-16\n"
      ]
     },
     "metadata": {},
     "output_type": "display_data"
    }
   ],
   "source": [
    "regressor <- lm(formula = Profit ~ R.D.Spend,\n",
    "               data = data.startup)\n",
    "\n",
    "summary(regressor)"
   ]
  },
  {
   "cell_type": "markdown",
   "metadata": {},
   "source": [
    "# AUTOMATED BACKWARD ELIMINATION"
   ]
  },
  {
   "cell_type": "code",
   "execution_count": 29,
   "metadata": {
    "scrolled": true
   },
   "outputs": [
    {
     "data": {
      "text/plain": [
       "\n",
       "Call:\n",
       "lm(formula = Profit ~ ., data = x)\n",
       "\n",
       "Residuals:\n",
       "   Min     1Q Median     3Q    Max \n",
       "-34334  -4894   -340   6752  17147 \n",
       "\n",
       "Coefficients:\n",
       "             Estimate Std. Error t value Pr(>|t|)    \n",
       "(Intercept) 4.902e+04  2.748e+03   17.84   <2e-16 ***\n",
       "R.D.Spend   8.563e-01  3.357e-02   25.51   <2e-16 ***\n",
       "---\n",
       "Signif. codes:  0 '***' 0.001 '**' 0.01 '*' 0.05 '.' 0.1 ' ' 1\n",
       "\n",
       "Residual standard error: 9836 on 38 degrees of freedom\n",
       "Multiple R-squared:  0.9448,\tAdjusted R-squared:  0.9434 \n",
       "F-statistic: 650.8 on 1 and 38 DF,  p-value: < 2.2e-16\n"
      ]
     },
     "metadata": {},
     "output_type": "display_data"
    }
   ],
   "source": [
    "backwardElimination <- function(x,sl) {\n",
    "    \n",
    "    numVars = length(x)\n",
    "    \n",
    "    for (i in c(1:numVars)) {\n",
    "        \n",
    "        regressor = lm(formula = Profit ~ ., data = x)\n",
    "        maxVar = max(coef(summary(regressor))[c(2:numVars), \"Pr(>|t|)\"])\n",
    "        if(maxVar > sl) {\n",
    "            j = which(coef(summary(regressor))[c(2:numVars), \"Pr(>|t|)\"] == maxVar)\n",
    "            x = x[, -j]\n",
    "        }\n",
    "        \n",
    "        numVars = numVars - 1\n",
    "        \n",
    "        }\n",
    "        \n",
    "        return(summary(regressor))\n",
    "    }\n",
    "    \n",
    "     SL = .05\n",
    "    dataset = dataset[,c(1,2,3,4,5)]\n",
    "    backwardElimination(training_set,SL)\n"
   ]
  }
 ],
 "metadata": {
  "kernelspec": {
   "display_name": "R",
   "language": "R",
   "name": "ir"
  },
  "language_info": {
   "codemirror_mode": "r",
   "file_extension": ".r",
   "mimetype": "text/x-r-source",
   "name": "R",
   "pygments_lexer": "r",
   "version": "3.6.1"
  }
 },
 "nbformat": 4,
 "nbformat_minor": 4
}
