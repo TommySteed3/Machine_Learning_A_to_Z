{
 "cells": [
  {
   "cell_type": "markdown",
   "metadata": {},
   "source": [
    "# Random Forest - Regression "
   ]
  },
  {
   "cell_type": "markdown",
   "metadata": {},
   "source": [
    "**Ensemble Learning**  \n",
    "* Random Forest is an example.  \n",
    "* Other versions such as gradient boosting.  \n",
    "* Take multiple algorithms and combine to make more powerful.  "
   ]
  },
  {
   "cell_type": "markdown",
   "metadata": {},
   "source": [
    "**Random Forest Intuition**  \n",
    "1. Pick a random K data points from the Training set.  \n",
    "2. Build a Decision Tree associated to these K data points.  \n",
    "3. Choose number of trees you want - and repeat steps 1 and 2.  \n",
    "4. For a new data point - make each of your N trees predict the value of Y for the data point in question and assign the new data point the average across all the predicted Y values.  \n",
    "\n",
    "* Entropy and information gain."
   ]
  },
  {
   "cell_type": "markdown",
   "metadata": {},
   "source": [
    "**Regression Template**  \n",
    "* Note the regressor syntax: need a dataframe of independents for x ; need a VECTOR of dependents.  \n",
    "* As you increase the number of trees - you won't see a proportionate increase in steps. \n",
    "* Converges - to better placement of steps.  "
   ]
  },
  {
   "cell_type": "code",
   "execution_count": 7,
   "metadata": {},
   "outputs": [
    {
     "data": {
      "image/png": "[encoded data removed]",
      "text/plain": [
       "plot without title"
      ]
     },
     "metadata": {},
     "output_type": "display_data"
    }
   ],
   "source": [
    "# Regression Template\n",
    "\n",
    "# Importing the dataset\n",
    "dataset = read.csv('Position_Salaries.csv')\n",
    "dataset = dataset[2:3]\n",
    "\n",
    "# Splitting the dataset into the Training set and Test set\n",
    "# # install.packages('caTools')\n",
    "# library(caTools)\n",
    "# set.seed(123)\n",
    "# split = sample.split(dataset$Salary, SplitRatio = 2/3)\n",
    "# training_set = subset(dataset, split == TRUE)\n",
    "# test_set = subset(dataset, split == FALSE)\n",
    "\n",
    "# Feature Scaling\n",
    "# training_set = scale(training_set)\n",
    "# test_set = scale(test_set)\n",
    "\n",
    "# Fitting the Regression Model to the dataset\n",
    "library(randomForest)\n",
    "regressor <- randomForest(x = dataset[1],\n",
    "                          y = dataset$Salary,\n",
    "                          ntree = 100)\n",
    "\n",
    "# Predicting a new result\n",
    "y_pred = predict(regressor, data.frame(Level = 6.5))\n",
    "\n",
    "\n",
    "# Visualising the Regression Model results (for higher resolution and smoother curve)\n",
    "# install.packages('ggplot2')\n",
    "library(ggplot2)\n",
    "x_grid = seq(min(dataset$Level), max(dataset$Level), 0.001)\n",
    "ggplot() +\n",
    "  geom_point(aes(x = dataset$Level, y = dataset$Salary),\n",
    "             colour = 'red') +\n",
    "  geom_line(aes(x = x_grid, y = predict(regressor, newdata = data.frame(Level = x_grid))),\n",
    "            colour = 'blue') +\n",
    "  ggtitle('Truth or Bluff (Random Forest Regression Model)') +\n",
    "  xlab('Level') +\n",
    "  ylab('Salary')"
   ]
  }
 ],
 "metadata": {
  "kernelspec": {
   "display_name": "R",
   "language": "R",
   "name": "ir"
  },
  "language_info": {
   "codemirror_mode": "r",
   "file_extension": ".r",
   "mimetype": "text/x-r-source",
   "name": "R",
   "pygments_lexer": "r",
   "version": "3.6.1"
  }
 },
 "nbformat": 4,
 "nbformat_minor": 4
}
