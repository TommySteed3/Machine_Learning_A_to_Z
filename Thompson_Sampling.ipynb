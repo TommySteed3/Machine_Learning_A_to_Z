{
 "cells": [
  {
   "cell_type": "markdown",
   "metadata": {},
   "source": [
    "**Algorithm Intuition**  \n",
    "* REFRESHER:  Bayesian Inference  \n",
    "![](bayesian_inference.PNG)"
   ]
  },
  {
   "cell_type": "markdown",
   "metadata": {},
   "source": [
    "* First assumption is that each ad has a reward distribution that is Bernoulli with parameter Theta(i).  \n",
    "* Theta(i) is unknown - but assumed to have a uniform 0,1 distribution as the prior distribution. "
   ]
  },
  {
   "cell_type": "markdown",
   "metadata": {},
   "source": [
    "**PRIOR AND POSTERIOR DISTRIBUTION - REVIEW**  \n",
    "* Prior and likelihood are said to be conjugate when the resulting posterior distribution is the same type of distribution as the prior.  \n",
    "* Example:  Binomial data with a beta prior results in a beta posterior.  \n",
    "* Conjugate priors are not required for bayesian updating - but they make the calculations a lot easier.  \n",
    "* Beta Parameter has 2 shape parameters - is denoted Beta(alpha, Beta).  \n",
    "* Bernoulli(p) with p ~ U(0,1) is equivalent to using a Beta(1,1) distribution.  \n",
    "* To obtain a posterior - use Bayes' rule:  Posterior is proportional to Prior x Likelihood  "
   ]
  },
  {
   "cell_type": "markdown",
   "metadata": {},
   "source": [
    "* Thompson Algorithm:  \n",
    "![](thompson_algo.PNG)"
   ]
  },
  {
   "cell_type": "markdown",
   "metadata": {},
   "source": [
    "* Begin by selecting each option a few times to get some initial data.  \n",
    "* Use this to generate a distribution of u_star for each option.  \n",
    "* Trying to mathematically explain what we think is going on.  \n",
    "* Thompson Sampling is PROBABILISTIC ; UCB was DETERMINISTIC  \n",
    "* We are estimating where we think u_star values will be ; NOT TRYING to guess distributions behind machines  \n",
    "* Use this as prior distribution in Bayesian inference ; make a selection from best prior ;  \n",
    "* Update prior with new data ; select from best updated prior ; repeat  \n",
    "* Distribution will narrow around actual expected value  "
   ]
  },
  {
   "cell_type": "markdown",
   "metadata": {},
   "source": [
    "**UCB vs Thompson Sampling**  \n",
    "* UCB is Deterministic ; Thompson Sampling is Probabilistic  \n",
    "* UCB requires update every round ; Can accomodate delayed feedback  \n",
    "* Thompson Sampling - better Empirical Evidence  "
   ]
  },
  {
   "cell_type": "markdown",
   "metadata": {},
   "source": [
    "* With Thompson Sampling - we are trying to estimate our parameter Theta for each ad (variation).  "
   ]
  },
  {
   "cell_type": "code",
   "execution_count": 8,
   "metadata": {},
   "outputs": [],
   "source": [
    "# Importing the dataset\n",
    "dataset = read.csv('Ads_CTR_Optimisation.csv')\n",
    "\n",
    "\n",
    "N <- 10000\n",
    "d <- 10\n",
    "ads.selected <- integer(0)\n",
    "#selection.numbers <- integer(d)\n",
    "#reward.sum <- integer(d)\n",
    "reward_1 <- integer(d) \n",
    "reward_0 <- integer(d)\n",
    "\n",
    "total.reward <- 0\n",
    "\n",
    "for(n in 1:N) {\n",
    "    \n",
    "    ad <- 0\n",
    "    max.random <- 0\n",
    "    \n",
    "    for(i in 1:d){\n",
    "        \n",
    "        random.beta <- rbeta(n = 1,\n",
    "                            shape1 = reward_1[i] + 1,\n",
    "                            shape2 = reward_0[i] + 1)\n",
    "\n",
    "        if(random.beta > max.random) {\n",
    "            max.random = random.beta\n",
    "            ad <- i\n",
    "        }\n",
    "    }\n",
    "\n",
    "        ads.selected <- append(ads.selected, ad)\n",
    "        reward <- dataset[n, ad]\n",
    "    \n",
    "    if(reward == 1) {\n",
    "        \n",
    "        reward_1[ad] = reward_1[ad] + 1\n",
    "    } else {\n",
    "        \n",
    "        reward_0[ad] = reward_0[ad] + 1\n",
    "    }\n",
    "        \n",
    "        \n",
    "        total.reward <- total.reward + reward\n",
    "}"
   ]
  },
  {
   "cell_type": "code",
   "execution_count": 9,
   "metadata": {},
   "outputs": [
    {
     "data": {
      "text/html": [
       "2607"
      ],
      "text/latex": [
       "2607"
      ],
      "text/markdown": [
       "2607"
      ],
      "text/plain": [
       "[1] 2607"
      ]
     },
     "metadata": {},
     "output_type": "display_data"
    }
   ],
   "source": [
    "total.reward"
   ]
  },
  {
   "cell_type": "code",
   "execution_count": 10,
   "metadata": {},
   "outputs": [
    {
     "data": {
      "image/png": "[encoded data removed]",
      "text/plain": [
       "Plot with title \"Histogram of Selections\""
      ]
     },
     "metadata": {},
     "output_type": "display_data"
    }
   ],
   "source": [
    "hist(ads.selected,\n",
    "    col = 'blue',\n",
    "    main = 'Histogram of Selections',\n",
    "    xlab = 'Ads',\n",
    "    ylab = 'Number of Selections')"
   ]
  },
  {
   "cell_type": "code",
   "execution_count": 11,
   "metadata": {},
   "outputs": [
    {
     "name": "stderr",
     "output_type": "stream",
     "text": [
      "Registered S3 methods overwritten by 'ggplot2':\n",
      "  method         from \n",
      "  [.quosures     rlang\n",
      "  c.quosures     rlang\n",
      "  print.quosures rlang\n"
     ]
    },
    {
     "data": {
      "image/png": "[encoded data removed]",
      "text/plain": [
       "plot without title"
      ]
     },
     "metadata": {},
     "output_type": "display_data"
    }
   ],
   "source": [
    "ads.selected <- as.data.frame(ads.selected)\n",
    "ads.selected$ID <- seq.int(nrow(ads.selected))\n",
    "\n",
    "library(ggplot2)\n",
    "ggplot(ads.selected, aes(x = ID, y = ads.selected)) + geom_point()"
   ]
  },
  {
   "cell_type": "code",
   "execution_count": null,
   "metadata": {},
   "outputs": [],
   "source": []
  }
 ],
 "metadata": {
  "kernelspec": {
   "display_name": "R",
   "language": "R",
   "name": "ir"
  },
  "language_info": {
   "codemirror_mode": "r",
   "file_extension": ".r",
   "mimetype": "text/x-r-source",
   "name": "R",
   "pygments_lexer": "r",
   "version": "3.6.1"
  }
 },
 "nbformat": 4,
 "nbformat_minor": 4
}
