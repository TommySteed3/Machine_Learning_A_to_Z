{
 "cells": [
  {
   "cell_type": "markdown",
   "metadata": {},
   "source": [
    "**MULTI-ARMED BANDIT**  \n",
    "* Multiple slot machines - how do you play them to maximize returns?  \n",
    "* Assumption that each machine has a distribution.  You don't know the distributions.  \n",
    "* Want to figure out which to play.  \n",
    "* Need to spend money to determine which is best - then just play the best machine.  \n",
    "* Exploration/exploitation - costs money to determine best machine - want to be as efficient as possible.  \n",
    "* Optimize method - to avoid regret.  But if you don't explore long enough - suboptimal machine more likely.  "
   ]
  },
  {
   "cell_type": "markdown",
   "metadata": {},
   "source": [
    "**Real World Example**  \n",
    "* Marketing:  Look at 5 different ads (can be any number).  \n",
    "* A/B Test uniformly uses all options - these are just for exploration.  \n",
    "* Want to exploit in the process of exploring.  "
   ]
  },
  {
   "cell_type": "markdown",
   "metadata": {},
   "source": [
    "**MULTI-ARMED BANDIT PROBLEM - MODERN APPLICATION**  \n",
    "* We have d ads that we display to users each time they connect to a web page.  \n",
    "* Each time a user connects to the page - that makes a round.  \n",
    "* At each round n, we choose one ad to display to the user.  \n",
    "* At each round n, ad i gives reward 1 if user clicks, o.w. 0.  \n",
    "* Our goal is to maximize the total reward we get over many rounds.  "
   ]
  },
  {
   "cell_type": "markdown",
   "metadata": {},
   "source": [
    "**UCB INTUITION / ALGORITHM**  \n",
    "* For our example - assume 5 ads - each has its own distribution and Expected Value.  \n",
    "* We do not know the Distributions or Expected Values - so we start off assuming they all have the same Expected Value.  \n",
    "* Model calculates confidence bands for each ad.  \n",
    "* Begin - all are the same - all are very wide - pick one at random.  \n",
    "* Observation moves E[X] AND shrinks confidence interval.  \n",
    "* Next observation is selected from option with lowest upper bound.  \n",
    "* As you select best machine more and more - CI shrinks - results in trying another option with wider CI.  "
   ]
  },
  {
   "cell_type": "code",
   "execution_count": 1,
   "metadata": {},
   "outputs": [],
   "source": [
    "data.ads <- read.csv('Ads_CTR_Optimisation.csv')"
   ]
  },
  {
   "cell_type": "markdown",
   "metadata": {},
   "source": [
    "* For UCB - we would be working without data - we would be updating as we go.  \n",
    "* data.ads that we imported above is for simulation.  \n",
    "* Data above contains 10,000 simulated rounds for 10 ads.  \n",
    "* Begin by selecting at random for demonstration.  "
   ]
  },
  {
   "cell_type": "code",
   "execution_count": 2,
   "metadata": {},
   "outputs": [
    {
     "data": {
      "image/png": "[encoded data removed]",
      "text/plain": [
       "Plot with title \"Histogram of ads selections\""
      ]
     },
     "metadata": {},
     "output_type": "display_data"
    }
   ],
   "source": [
    "# Random Selection\n",
    "\n",
    "# Importing the dataset\n",
    "dataset = read.csv('Ads_CTR_Optimisation.csv')\n",
    "\n",
    "# Implementing Random Selection\n",
    "N = 10000\n",
    "d = 10\n",
    "ads_selected = integer(0)\n",
    "total_reward = 0\n",
    "for (n in 1:N) {\n",
    "  ad = sample(1:10, 1)\n",
    "  ads_selected = append(ads_selected, ad)\n",
    "  reward = dataset[n, ad]\n",
    "  total_reward = total_reward + reward\n",
    "}\n",
    "\n",
    "# Visualising the results\n",
    "hist(ads_selected,\n",
    "     col = 'blue',\n",
    "     main = 'Histogram of ads selections',\n",
    "     xlab = 'Ads',\n",
    "     ylab = 'Number of times each ad was selected')"
   ]
  },
  {
   "cell_type": "code",
   "execution_count": 3,
   "metadata": {},
   "outputs": [
    {
     "data": {
      "text/html": [
       "1266"
      ],
      "text/latex": [
       "1266"
      ],
      "text/markdown": [
       "1266"
      ],
      "text/plain": [
       "[1] 1266"
      ]
     },
     "metadata": {},
     "output_type": "display_data"
    }
   ],
   "source": [
    "total_reward"
   ]
  },
  {
   "cell_type": "markdown",
   "metadata": {},
   "source": [
    "* There is not really a package for UCB - so we will build it from scratch.  "
   ]
  },
  {
   "cell_type": "markdown",
   "metadata": {},
   "source": [
    "**UCB ALGORITHM**  \n",
    "![](ucb_algo.PNG)"
   ]
  },
  {
   "cell_type": "code",
   "execution_count": 16,
   "metadata": {},
   "outputs": [],
   "source": [
    "N <- 10000\n",
    "d <- 10\n",
    "ads.selected <- integer(0)\n",
    "selection.numbers <- integer(d)\n",
    "reward.sum <- integer(d)\n",
    "total.reward <- 0\n",
    "\n",
    "for(n in 1:N) {\n",
    "    \n",
    "    ad <- 0\n",
    "    max.upper.bound <- 0\n",
    "    \n",
    "    for(i in 1:d){\n",
    "        \n",
    "        if(selection.numbers[i] > 0) {\n",
    "            \n",
    "        reward.average <- reward.sum[i]/selection.numbers[i]\n",
    "        delta.i <- sqrt(3/2 * log(n)/selection.numbers[i])\n",
    "        upper.bound <- reward.average + delta.i\n",
    "            } else {\n",
    "            \n",
    "            upper.bound <- 1e400\n",
    "        }\n",
    "        if(upper.bound > max.upper.bound) {\n",
    "            max.upper.bound = upper.bound\n",
    "            ad <- i\n",
    "        }\n",
    "    }\n",
    "\n",
    "        ads.selected <- append(ads.selected, ad)\n",
    "        selection.numbers[ad] = selection.numbers[ad] + 1\n",
    "        reward <- dataset[n, ad]\n",
    "        reward.sum[ad] <- reward.sum[ad] + reward\n",
    "        total.reward <- total.reward + reward\n",
    "}"
   ]
  },
  {
   "cell_type": "code",
   "execution_count": 5,
   "metadata": {},
   "outputs": [
    {
     "data": {
      "text/html": [
       "2178"
      ],
      "text/latex": [
       "2178"
      ],
      "text/markdown": [
       "2178"
      ],
      "text/plain": [
       "[1] 2178"
      ]
     },
     "metadata": {},
     "output_type": "display_data"
    }
   ],
   "source": [
    "total.reward"
   ]
  },
  {
   "cell_type": "markdown",
   "metadata": {},
   "source": [
    "* Nearly double the score we got from random selection."
   ]
  },
  {
   "cell_type": "code",
   "execution_count": 17,
   "metadata": {},
   "outputs": [
    {
     "data": {
      "image/png": "[encoded data removed]",
      "text/plain": [
       "Plot with title \"Histogram of Selections\""
      ]
     },
     "metadata": {},
     "output_type": "display_data"
    }
   ],
   "source": [
    "hist(ads.selected,\n",
    "    col = 'blue',\n",
    "    main = 'Histogram of Selections',\n",
    "    xlab = 'Ads',\n",
    "    ylab = 'Number of Selections')"
   ]
  },
  {
   "cell_type": "code",
   "execution_count": 18,
   "metadata": {},
   "outputs": [],
   "source": [
    "ads.selected <- as.data.frame(ads.selected)\n",
    "ads.selected$ID <- seq.int(nrow(ads.selected))"
   ]
  },
  {
   "cell_type": "code",
   "execution_count": 19,
   "metadata": {},
   "outputs": [
    {
     "data": {
      "image/png": "[encoded data removed]",
      "text/plain": [
       "plot without title"
      ]
     },
     "metadata": {},
     "output_type": "display_data"
    }
   ],
   "source": [
    "library(ggplot2)\n",
    "ggplot(ads.selected, aes(x = ID, y = ads.selected)) + geom_point()"
   ]
  }
 ],
 "metadata": {
  "kernelspec": {
   "display_name": "R",
   "language": "R",
   "name": "ir"
  },
  "language_info": {
   "codemirror_mode": "r",
   "file_extension": ".r",
   "mimetype": "text/x-r-source",
   "name": "R",
   "pygments_lexer": "r",
   "version": "3.6.1"
  }
 },
 "nbformat": 4,
 "nbformat_minor": 4
}
