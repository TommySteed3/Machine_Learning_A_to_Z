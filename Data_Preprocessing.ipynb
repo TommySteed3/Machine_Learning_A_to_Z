{
 "cells": [
  {
   "cell_type": "markdown",
   "metadata": {},
   "source": [
    "# Data Preprocessing\n"
   ]
  },
  {
   "cell_type": "markdown",
   "metadata": {},
   "source": [
    "**Import Dataset**"
   ]
  },
  {
   "cell_type": "code",
   "execution_count": 9,
   "metadata": {},
   "outputs": [],
   "source": [
    "##Import Dataset\n",
    "data.udemy <- read.csv('Data.csv')"
   ]
  },
  {
   "cell_type": "markdown",
   "metadata": {},
   "source": [
    "**Missing Values**"
   ]
  },
  {
   "cell_type": "code",
   "execution_count": 10,
   "metadata": {},
   "outputs": [],
   "source": [
    "##Missing Values\n",
    "data.udemy$Age <- ifelse(is.na(data.udemy$Age),\n",
    "                         ave(data.udemy$Age, FUN = function(x) mean(x, na.rm = TRUE)),\n",
    "                         data.udemy$Age)\n",
    "\n",
    "\n",
    "data.udemy$Salary <- ifelse(is.na(data.udemy$Salary),\n",
    "                         ave(data.udemy$Salary, FUN = function(x) mean(x, na.rm = TRUE)),\n",
    "                         data.udemy$Salary)\n",
    "                         "
   ]
  },
  {
   "cell_type": "markdown",
   "metadata": {},
   "source": [
    "**Convert Categoricals to Factors**"
   ]
  },
  {
   "cell_type": "code",
   "execution_count": 11,
   "metadata": {},
   "outputs": [],
   "source": [
    "##Convert categoricals to factors\n",
    "                            \n",
    "data.udemy$Country <- factor(data.udemy$Country,\n",
    "                             levels = c('France','Spain','Germany'),\n",
    "                             labels = c(1,2,3))\n",
    "\n",
    "data.udemy$Purchased <- factor(data.udemy$Purchased,\n",
    "                               levels = c('No','Yes'),\n",
    "                               labels = c(0,1))\n"
   ]
  },
  {
   "cell_type": "markdown",
   "metadata": {},
   "source": [
    "**Split into Test and Train**"
   ]
  },
  {
   "cell_type": "code",
   "execution_count": 12,
   "metadata": {},
   "outputs": [],
   "source": [
    "##Split into Test and Train\n",
    "                            \n",
    "library(caTools)\n",
    "set.seed(123)\n",
    "\n",
    "split <- sample.split(data.udemy$Purchased,\n",
    "                      SplitRatio = 0.8)\n",
    "\n",
    "data.train <- subset(data.udemy, split == TRUE)\n",
    "data.test <- subset(data.udemy, split == FALSE)"
   ]
  },
  {
   "cell_type": "markdown",
   "metadata": {},
   "source": [
    "**Feature Scaling**"
   ]
  },
  {
   "cell_type": "code",
   "execution_count": 13,
   "metadata": {},
   "outputs": [],
   "source": [
    "##Feature Scaling\n",
    "                            \n",
    "data.train[,2:3] <- scale(data.train[,2:3])\n",
    "data.test[,2:3] <- scale(data.test[,2:3])\n",
    "                "
   ]
  }
 ],
 "metadata": {
  "kernelspec": {
   "display_name": "R",
   "language": "R",
   "name": "ir"
  },
  "language_info": {
   "codemirror_mode": "r",
   "file_extension": ".r",
   "mimetype": "text/x-r-source",
   "name": "R",
   "pygments_lexer": "r",
   "version": "3.6.1"
  }
 },
 "nbformat": 4,
 "nbformat_minor": 4
}
