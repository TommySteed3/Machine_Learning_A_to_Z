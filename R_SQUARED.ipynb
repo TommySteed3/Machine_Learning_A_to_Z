{
 "cells": [
  {
   "cell_type": "markdown",
   "metadata": {},
   "source": [
    "# R- SQUARED"
   ]
  },
  {
   "cell_type": "markdown",
   "metadata": {},
   "source": [
    "* Sum of Squares Residual (RSS) = SUM(y - yhat)2  \n",
    "* Sum of Squares Total (TSS) = SUM(y - yavg)2  \n",
    "* R2 = 1 - (RSS/TSS) \n",
    "* Tells us how good our line is vs the average line.  \n",
    "* Trying to minimize SSR - which increases R2.  \n",
    "* Ideally R2 = 1 (because SSR = 0 ; you match all the points ; never happens).  \n",
    "* Can be negative:  Your data fits worse than the average line.  \n",
    "* Normally between 0 and 1 ; closer to 1 the better."
   ]
  },
  {
   "cell_type": "markdown",
   "metadata": {},
   "source": [
    "**Adjusted R-SQUARED**  \n",
    "* R2 is the same as minimizing RSS.  \n",
    "* PROBLEM:  Adding variables will ALWAYS reduce RSS (and increase R2) - or stay the same.    \n",
    "* Formula: Adjusted R2 = 1 - (1-R2)((n-1)/(n-p-1))  \n",
    "* p = number of regressors  \n",
    "* n = sample size  \n",
    "* Penalization Factor: For adding regressors (denominator is (n-p-1))  \n",
    "* Adding a variable will increase R2 - but (n-p-1) increases - need increase in R2 to be enough to offset (n-p-1) penalization factor  \n",
    "* Use this in addition to individual model p-scores when determining whether or not to include a factor - in particular for factors with p-values close to your selected Level of Significance"
   ]
  },
  {
   "cell_type": "code",
   "execution_count": null,
   "metadata": {},
   "outputs": [],
   "source": []
  }
 ],
 "metadata": {
  "kernelspec": {
   "display_name": "R",
   "language": "R",
   "name": "ir"
  },
  "language_info": {
   "codemirror_mode": "r",
   "file_extension": ".r",
   "mimetype": "text/x-r-source",
   "name": "R",
   "pygments_lexer": "r",
   "version": "3.6.1"
  }
 },
 "nbformat": 4,
 "nbformat_minor": 4
}
