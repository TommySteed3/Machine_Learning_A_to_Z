{
 "cells": [
  {
   "cell_type": "markdown",
   "metadata": {},
   "source": [
    "**SVR INTUITION**  \n",
    "* Invented in 90s by Vapnik and colleagues at Bell Labs.  \n",
    "* Discussed in his 1992 book: \"Nature of Statistical Learning Theory\"  \n",
    "* SVM = Support Vector Machine = Classification ; SVR = Support Vector Regression = Regression  \n"
   ]
  },
  {
   "cell_type": "markdown",
   "metadata": {},
   "source": [
    "* Linear Regression utilizes Ordinary Least Squares (OLS) - minimizes sum(Y - Y.Hat)^2  \n",
    "* SVR will produce a line with a band around it with width epsilon.  This is called the epsilon - insensitive tube.  \n",
    "* Observations within the tube do not contribute to the overall error.  \n",
    "* Observations outside the tube are considered.  Error is calculated as distance from the point to the boudary of the epsilon-insensitive tube.  \n",
    "* Epsilon.sub.i for points above the epsilon-insensitive tube ; epsilon.sub.i.star for points below the epsilon-insensitive tube.  \n",
    "* Formula:  (1/2)||w||^2 + C(SUM i = 1 to m) (epsilon.i + epsilon.i.star) ---> min  \n",
    "\n"
   ]
  },
  {
   "cell_type": "markdown",
   "metadata": {},
   "source": [
    "**Non-Linear SVR**  \n",
    "Course path to Non-Linear Kernel SVR:  \n",
    "* SVM Intuition  \n",
    "* Kernel SVM Intuition  \n",
    "* Mapping to a higher dimension  \n",
    "* The Kernel Trick  \n",
    "* Types of Kernel Functions  \n",
    "* Non-Linear Kernel SVR"
   ]
  },
  {
   "cell_type": "markdown",
   "metadata": {},
   "source": [
    "This is the 2nd Non-Linear model we implement.  \n",
    "The first was the Polynomial model."
   ]
  },
  {
   "cell_type": "markdown",
   "metadata": {},
   "source": [
    "**BEGIN CODING**  \n",
    "Start with regression template:"
   ]
  },
  {
   "cell_type": "code",
   "execution_count": 7,
   "metadata": {},
   "outputs": [
    {
     "name": "stderr",
     "output_type": "stream",
     "text": [
      "Registered S3 methods overwritten by 'ggplot2':\n",
      "  method         from \n",
      "  [.quosures     rlang\n",
      "  c.quosures     rlang\n",
      "  print.quosures rlang\n"
     ]
    },
    {
     "data": {
      "image/png": "[encoded data removed]",
      "text/plain": [
       "plot without title"
      ]
     },
     "metadata": {},
     "output_type": "display_data"
    },
    {
     "data": {
      "image/png": "[encoded data removed]",
      "text/plain": [
       "plot without title"
      ]
     },
     "metadata": {},
     "output_type": "display_data"
    }
   ],
   "source": [
    "# Regression Template\n",
    "\n",
    "# Importing the dataset\n",
    "data.salaries = read.csv('Position_Salaries.csv')\n",
    "data.salaries = data.salaries[2:3]\n",
    "\n",
    "# Splitting the dataset into the Training set and Test set\n",
    "# # install.packages('caTools')\n",
    "# library(caTools)\n",
    "# set.seed(123)\n",
    "# split = sample.split(dataset$Salary, SplitRatio = 2/3)\n",
    "# training_set = subset(dataset, split == TRUE)\n",
    "# test_set = subset(dataset, split == FALSE)\n",
    "\n",
    "# Feature Scaling\n",
    "# training_set = scale(training_set)\n",
    "# test_set = scale(test_set)\n",
    "\n",
    "# Fitting the Regression Model to the dataset\n",
    "# Create your regressor here\n",
    "\n",
    "library(e1071)\n",
    "\n",
    "\n",
    "regressor <- svm(Salary ~ .,\n",
    "                data = data.salaries,\n",
    "                type = 'eps-regression')\n",
    "\n",
    "\n",
    "\n",
    "# Predicting a new result\n",
    "y_pred = predict(regressor, data.frame(Level = 6.5))\n",
    "\n",
    "# Visualising the Regression Model results\n",
    "# install.packages('ggplot2')\n",
    "library(ggplot2)\n",
    "ggplot() +\n",
    "  geom_point(aes(x = data.salaries$Level, y = data.salaries$Salary),\n",
    "             colour = 'red') +\n",
    "  geom_line(aes(x = data.salaries$Level, y = predict(regressor, newdata = data.salaries)),\n",
    "            colour = 'blue') +\n",
    "  ggtitle('Truth or Bluff (Regression Model)') +\n",
    "  xlab('Level') +\n",
    "  ylab('Salary')\n",
    "\n",
    "# Visualising the Regression Model results (for higher resolution and smoother curve)\n",
    "# install.packages('ggplot2')\n",
    "library(ggplot2)\n",
    "x_grid = seq(min(data.salaries$Level), max(data.salaries$Level), 0.1)\n",
    "ggplot() +\n",
    "  geom_point(aes(x = data.salaries$Level, y = data.salaries$Salary),\n",
    "             colour = 'red') +\n",
    "  geom_line(aes(x = x_grid, y = predict(regressor, newdata = data.frame(Level = x_grid))),\n",
    "            colour = 'blue') +\n",
    "  ggtitle('Truth or Bluff (Regression Model)') +\n",
    "  xlab('Level') +\n",
    "  ylab('Salary')"
   ]
  },
  {
   "cell_type": "markdown",
   "metadata": {},
   "source": [
    "* In the code above we use the svm() function from the e1071 package.  \n",
    "* One of the arguments we selected in the svm() function is type = 'eps-regression'.  \n",
    "* There are 5 options for this argument:  \n",
    "1. c-classification  \n",
    "2. nu-classification  \n",
    "3. one-classification (for novelty detection)  \n",
    "4. eps-regression  \n",
    "5. nu-regression  \n",
    "\n",
    "Clear to see some for classification and some for regression.  \n",
    "Not sure what the difference is between types (nu ; c ; eps)\n"
   ]
  },
  {
   "cell_type": "markdown",
   "metadata": {},
   "source": [
    "* In the second graph - used the following:  x_grid = seq(min(data.salaries$Level), max(data.salaries$Level), 0.1)  \n",
    "* Wanted a more robust prediction grid to remove distance between lines which are connected linearly by default - which distorts from actuals.  "
   ]
  }
 ],
 "metadata": {
  "kernelspec": {
   "display_name": "R",
   "language": "R",
   "name": "ir"
  },
  "language_info": {
   "codemirror_mode": "r",
   "file_extension": ".r",
   "mimetype": "text/x-r-source",
   "name": "R",
   "pygments_lexer": "r",
   "version": "3.6.1"
  }
 },
 "nbformat": 4,
 "nbformat_minor": 4
}
