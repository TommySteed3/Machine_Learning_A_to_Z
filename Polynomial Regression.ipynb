{
 "cells": [
  {
   "cell_type": "markdown",
   "metadata": {},
   "source": [
    "# POLYNOMIAL LINEAR REGRESSION"
   ]
  },
  {
   "cell_type": "markdown",
   "metadata": {},
   "source": [
    "y = $b_0 + b_1x_1 + b_2x_1^2 + ... + b_nx_1^n $  \n",
    "* Use when relationship between dependent and independent variable is not linear."
   ]
  },
  {
   "cell_type": "markdown",
   "metadata": {},
   "source": [
    "**LINEAR**  \n",
    "* Linear and Non-Linear is referring to coefficients - not independent variables."
   ]
  },
  {
   "cell_type": "markdown",
   "metadata": {},
   "source": [
    "**Data Preprocessing**"
   ]
  },
  {
   "cell_type": "code",
   "execution_count": 9,
   "metadata": {},
   "outputs": [],
   "source": [
    "# Data Preprocessing Template\n",
    "# Importing the dataset\n",
    "data.salaries = read.csv('Position_Salaries.csv')"
   ]
  },
  {
   "cell_type": "markdown",
   "metadata": {},
   "source": [
    "**PLOT BELOW SHOWS THE RELATIONSHIP IS NOT LINEAR**"
   ]
  },
  {
   "cell_type": "code",
   "execution_count": 10,
   "metadata": {},
   "outputs": [
    {
     "data": {
      "image/png": "[encoded data removed]",
      "text/plain": [
       "plot without title"
      ]
     },
     "metadata": {},
     "output_type": "display_data"
    }
   ],
   "source": [
    "library(ggplot2)\n",
    "ggplot(data.salaries, aes(x = Level, y = Salary)) + geom_point()"
   ]
  },
  {
   "cell_type": "code",
   "execution_count": 11,
   "metadata": {},
   "outputs": [],
   "source": [
    "data.salaries <- data.salaries[,2:3]\n",
    "# No splitting into Test/Train - small instructional dataset."
   ]
  },
  {
   "cell_type": "markdown",
   "metadata": {},
   "source": [
    "**COMPARE LINEAR MODEL TO POLYNOMIAL MODEL**"
   ]
  },
  {
   "cell_type": "code",
   "execution_count": 13,
   "metadata": {},
   "outputs": [
    {
     "data": {
      "text/plain": [
       "\n",
       "Call:\n",
       "lm(formula = Salary ~ ., data = data.salaries)\n",
       "\n",
       "Residuals:\n",
       "    Min      1Q  Median      3Q     Max \n",
       "-170818 -129720  -40379   65856  386545 \n",
       "\n",
       "Coefficients:\n",
       "            Estimate Std. Error t value Pr(>|t|)   \n",
       "(Intercept)  -195333     124790  -1.565  0.15615   \n",
       "Level          80879      20112   4.021  0.00383 **\n",
       "---\n",
       "Signif. codes:  0 '***' 0.001 '**' 0.01 '*' 0.05 '.' 0.1 ' ' 1\n",
       "\n",
       "Residual standard error: 182700 on 8 degrees of freedom\n",
       "Multiple R-squared:  0.669,\tAdjusted R-squared:  0.6277 \n",
       "F-statistic: 16.17 on 1 and 8 DF,  p-value: 0.003833\n"
      ]
     },
     "metadata": {},
     "output_type": "display_data"
    }
   ],
   "source": [
    "lin.reg <- lm(formula = Salary ~ .,\n",
    "             data = data.salaries)\n",
    "\n",
    "summary(lin.reg)"
   ]
  },
  {
   "cell_type": "code",
   "execution_count": 15,
   "metadata": {},
   "outputs": [
    {
     "data": {
      "text/plain": [
       "\n",
       "Call:\n",
       "lm(formula = Salary ~ ., data = data.salaries)\n",
       "\n",
       "Residuals:\n",
       "   Min     1Q Median     3Q    Max \n",
       "-75695 -28148   7091  29256  49538 \n",
       "\n",
       "Coefficients:\n",
       "             Estimate Std. Error t value Pr(>|t|)   \n",
       "(Intercept) -121333.3    97544.8  -1.244  0.25994   \n",
       "Level        180664.3    73114.5   2.471  0.04839 * \n",
       "L2           -48549.0    15081.0  -3.219  0.01816 * \n",
       "L3             4120.0      904.3   4.556  0.00387 **\n",
       "---\n",
       "Signif. codes:  0 '***' 0.001 '**' 0.01 '*' 0.05 '.' 0.1 ' ' 1\n",
       "\n",
       "Residual standard error: 50260 on 6 degrees of freedom\n",
       "Multiple R-squared:  0.9812,\tAdjusted R-squared:  0.9718 \n",
       "F-statistic: 104.4 on 3 and 6 DF,  p-value: 1.441e-05\n"
      ]
     },
     "metadata": {},
     "output_type": "display_data"
    }
   ],
   "source": [
    "data.salaries$L2 <- data.salaries$Level^2\n",
    "data.salaries$L3 <- data.salaries$Level^3\n",
    "poly.reg <- lm(formula = Salary ~ .,\n",
    "              data = data.salaries)\n",
    "\n",
    "summary(poly.reg)"
   ]
  },
  {
   "cell_type": "markdown",
   "metadata": {},
   "source": [
    "**Visualize Linear Regression Results**  \n",
    "* Notice the straight line predictions - a feature of a linear model without polynomials."
   ]
  },
  {
   "cell_type": "code",
   "execution_count": 20,
   "metadata": {},
   "outputs": [
    {
     "data": {
      "image/png": "[encoded data removed]",
      "text/plain": [
       "plot without title"
      ]
     },
     "metadata": {},
     "output_type": "display_data"
    }
   ],
   "source": [
    "library(ggplot2)\n",
    "ggplot(data.salaries) + geom_point(aes(x = Level, y = Salary), color = 'red') + \n",
    "                        geom_line(aes(x = Level, y = predict(lin.reg, data.salaries)), color = 'blue') + \n",
    "                        ggtitle('Normal Linear Regression') +xlab('Level') +ylab('Salary')"
   ]
  },
  {
   "cell_type": "markdown",
   "metadata": {},
   "source": [
    "**Visualize Polynomial Regression Results**  \n",
    "Simply copy the linear regression code - and change the regressor used in the predict function."
   ]
  },
  {
   "cell_type": "code",
   "execution_count": 22,
   "metadata": {},
   "outputs": [
    {
     "data": {
      "image/png": "[encoded data removed]",
      "text/plain": [
       "plot without title"
      ]
     },
     "metadata": {},
     "output_type": "display_data"
    }
   ],
   "source": [
    "library(ggplot2)\n",
    "ggplot(data.salaries) + geom_point(aes(x = Level, y = Salary), color = 'red') + \n",
    "                        geom_line(aes(x = Level, y = predict(poly.reg, data.salaries)), color = 'blue') + \n",
    "                        ggtitle('Polynomial Regression') +xlab('Level') +ylab('Salary')"
   ]
  },
  {
   "cell_type": "markdown",
   "metadata": {},
   "source": [
    "**Predict a New Result with Linear and Polynomial Regression**"
   ]
  },
  {
   "cell_type": "code",
   "execution_count": 29,
   "metadata": {},
   "outputs": [
    {
     "data": {
      "text/html": [
       "<strong>1:</strong> 330378.79"
      ],
      "text/latex": [
       "\\textbf{1:} 330378.79"
      ],
      "text/markdown": [
       "**1:** 330378.79"
      ],
      "text/plain": [
       "       1 \n",
       "330378.8 "
      ]
     },
     "metadata": {},
     "output_type": "display_data"
    },
    {
     "data": {
      "text/html": [
       "<strong>1:</strong> 133259.47"
      ],
      "text/latex": [
       "\\textbf{1:} 133259.47"
      ],
      "text/markdown": [
       "**1:** 133259.47"
      ],
      "text/plain": [
       "       1 \n",
       "133259.5 "
      ]
     },
     "metadata": {},
     "output_type": "display_data"
    }
   ],
   "source": [
    "round(predict(lin.reg, data.frame(Level = 6.5)),2)\n",
    "round(predict(poly.reg, data.frame(Level = 6.5, L2 = 6.5^2, L3 = 6.5^3)),2)\n"
   ]
  }
 ],
 "metadata": {
  "kernelspec": {
   "display_name": "R",
   "language": "R",
   "name": "ir"
  },
  "language_info": {
   "codemirror_mode": "r",
   "file_extension": ".r",
   "mimetype": "text/x-r-source",
   "name": "R",
   "pygments_lexer": "r",
   "version": "3.6.1"
  }
 },
 "nbformat": 4,
 "nbformat_minor": 4
}
